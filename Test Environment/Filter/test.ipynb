{
 "cells": [
  {
   "cell_type": "code",
   "execution_count": 15,
   "metadata": {},
   "outputs": [],
   "source": [
    "import matplotlib.pyplot as plt\n",
    "import threading\n",
    "import pandas as pd"
   ]
  },
  {
   "cell_type": "code",
   "execution_count": 16,
   "metadata": {},
   "outputs": [],
   "source": [
    "filename = \"data.csv\"\n",
    "data = pd.read_csv(filename)"
   ]
  },
  {
   "cell_type": "code",
   "execution_count": 17,
   "metadata": {},
   "outputs": [
    {
     "data": {
      "text/html": [
       "<div>\n",
       "<style scoped>\n",
       "    .dataframe tbody tr th:only-of-type {\n",
       "        vertical-align: middle;\n",
       "    }\n",
       "\n",
       "    .dataframe tbody tr th {\n",
       "        vertical-align: top;\n",
       "    }\n",
       "\n",
       "    .dataframe thead th {\n",
       "        text-align: right;\n",
       "    }\n",
       "</style>\n",
       "<table border=\"1\" class=\"dataframe\">\n",
       "  <thead>\n",
       "    <tr style=\"text-align: right;\">\n",
       "      <th></th>\n",
       "      <th>version</th>\n",
       "      <th>protocol</th>\n",
       "      <th>src_ip</th>\n",
       "      <th>des_ip</th>\n",
       "      <th>arrival_time</th>\n",
       "      <th>departure_time</th>\n",
       "    </tr>\n",
       "  </thead>\n",
       "  <tbody>\n",
       "    <tr>\n",
       "      <th>0</th>\n",
       "      <td>1.0</td>\n",
       "      <td>1.0</td>\n",
       "      <td>10.0.2.4</td>\n",
       "      <td>142.250.182.35</td>\n",
       "      <td>1.682946e+09</td>\n",
       "      <td>NaN</td>\n",
       "    </tr>\n",
       "    <tr>\n",
       "      <th>1</th>\n",
       "      <td>1.0</td>\n",
       "      <td>1.0</td>\n",
       "      <td>142.250.182.35</td>\n",
       "      <td>10.0.2.4</td>\n",
       "      <td>1.682946e+09</td>\n",
       "      <td>NaN</td>\n",
       "    </tr>\n",
       "    <tr>\n",
       "      <th>2</th>\n",
       "      <td>1.0</td>\n",
       "      <td>1.0</td>\n",
       "      <td>142.250.182.35</td>\n",
       "      <td>10.0.2.4</td>\n",
       "      <td>1.682946e+09</td>\n",
       "      <td>NaN</td>\n",
       "    </tr>\n",
       "    <tr>\n",
       "      <th>3</th>\n",
       "      <td>1.0</td>\n",
       "      <td>1.0</td>\n",
       "      <td>10.0.2.4</td>\n",
       "      <td>142.250.182.35</td>\n",
       "      <td>1.682946e+09</td>\n",
       "      <td>NaN</td>\n",
       "    </tr>\n",
       "    <tr>\n",
       "      <th>4</th>\n",
       "      <td>1.0</td>\n",
       "      <td>1.0</td>\n",
       "      <td>10.0.2.4</td>\n",
       "      <td>142.250.192.131</td>\n",
       "      <td>1.682946e+09</td>\n",
       "      <td>NaN</td>\n",
       "    </tr>\n",
       "    <tr>\n",
       "      <th>...</th>\n",
       "      <td>...</td>\n",
       "      <td>...</td>\n",
       "      <td>...</td>\n",
       "      <td>...</td>\n",
       "      <td>...</td>\n",
       "      <td>...</td>\n",
       "    </tr>\n",
       "    <tr>\n",
       "      <th>16041</th>\n",
       "      <td>1.0</td>\n",
       "      <td>1.0</td>\n",
       "      <td>10.0.2.4</td>\n",
       "      <td>142.250.193.106</td>\n",
       "      <td>1.682948e+09</td>\n",
       "      <td>NaN</td>\n",
       "    </tr>\n",
       "    <tr>\n",
       "      <th>16042</th>\n",
       "      <td>1.0</td>\n",
       "      <td>1.0</td>\n",
       "      <td>142.250.193.106</td>\n",
       "      <td>10.0.2.4</td>\n",
       "      <td>1.682948e+09</td>\n",
       "      <td>NaN</td>\n",
       "    </tr>\n",
       "    <tr>\n",
       "      <th>16043</th>\n",
       "      <td>1.0</td>\n",
       "      <td>1.0</td>\n",
       "      <td>10.0.2.4</td>\n",
       "      <td>142.250.193.106</td>\n",
       "      <td>1.682948e+09</td>\n",
       "      <td>NaN</td>\n",
       "    </tr>\n",
       "    <tr>\n",
       "      <th>16044</th>\n",
       "      <td>1.0</td>\n",
       "      <td>1.0</td>\n",
       "      <td>142.250.193.106</td>\n",
       "      <td>10.0.2.4</td>\n",
       "      <td>1.682948e+09</td>\n",
       "      <td>NaN</td>\n",
       "    </tr>\n",
       "    <tr>\n",
       "      <th>16045</th>\n",
       "      <td>1.0</td>\n",
       "      <td>1.0</td>\n",
       "      <td>142.250.193.106</td>\n",
       "      <td>10.0.2.4</td>\n",
       "      <td>1.682948e+09</td>\n",
       "      <td>NaN</td>\n",
       "    </tr>\n",
       "  </tbody>\n",
       "</table>\n",
       "<p>16046 rows × 6 columns</p>\n",
       "</div>"
      ],
      "text/plain": [
       "       version  protocol           src_ip           des_ip  arrival_time   \n",
       "0          1.0       1.0         10.0.2.4   142.250.182.35  1.682946e+09  \\\n",
       "1          1.0       1.0   142.250.182.35         10.0.2.4  1.682946e+09   \n",
       "2          1.0       1.0   142.250.182.35         10.0.2.4  1.682946e+09   \n",
       "3          1.0       1.0         10.0.2.4   142.250.182.35  1.682946e+09   \n",
       "4          1.0       1.0         10.0.2.4  142.250.192.131  1.682946e+09   \n",
       "...        ...       ...              ...              ...           ...   \n",
       "16041      1.0       1.0         10.0.2.4  142.250.193.106  1.682948e+09   \n",
       "16042      1.0       1.0  142.250.193.106         10.0.2.4  1.682948e+09   \n",
       "16043      1.0       1.0         10.0.2.4  142.250.193.106  1.682948e+09   \n",
       "16044      1.0       1.0  142.250.193.106         10.0.2.4  1.682948e+09   \n",
       "16045      1.0       1.0  142.250.193.106         10.0.2.4  1.682948e+09   \n",
       "\n",
       "       departure_time  \n",
       "0                 NaN  \n",
       "1                 NaN  \n",
       "2                 NaN  \n",
       "3                 NaN  \n",
       "4                 NaN  \n",
       "...               ...  \n",
       "16041             NaN  \n",
       "16042             NaN  \n",
       "16043             NaN  \n",
       "16044             NaN  \n",
       "16045             NaN  \n",
       "\n",
       "[16046 rows x 6 columns]"
      ]
     },
     "execution_count": 17,
     "metadata": {},
     "output_type": "execute_result"
    }
   ],
   "source": [
    "data"
   ]
  },
  {
   "cell_type": "code",
   "execution_count": 18,
   "metadata": {},
   "outputs": [
    {
     "data": {
      "text/plain": [
       "version           8206\n",
       "protocol          8206\n",
       "src_ip            8206\n",
       "des_ip            8206\n",
       "arrival_time      8206\n",
       "departure_time       0\n",
       "dtype: int64"
      ]
     },
     "execution_count": 18,
     "metadata": {},
     "output_type": "execute_result"
    }
   ],
   "source": [
    "data[data[\"src_ip\"]==\"10.0.2.4\"].count()"
   ]
  },
  {
   "cell_type": "code",
   "execution_count": 19,
   "metadata": {},
   "outputs": [
    {
     "data": {
      "text/plain": [
       "0        1.682946e+09\n",
       "1        1.682946e+09\n",
       "2        1.682946e+09\n",
       "3        1.682946e+09\n",
       "4        1.682946e+09\n",
       "             ...     \n",
       "16041    1.682948e+09\n",
       "16042    1.682948e+09\n",
       "16043    1.682948e+09\n",
       "16044    1.682948e+09\n",
       "16045    1.682948e+09\n",
       "Name: arrival_time, Length: 16046, dtype: float64"
      ]
     },
     "execution_count": 19,
     "metadata": {},
     "output_type": "execute_result"
    }
   ],
   "source": [
    "data[\"arrival_time\"]"
   ]
  },
  {
   "cell_type": "code",
   "execution_count": null,
   "metadata": {},
   "outputs": [],
   "source": []
  }
 ],
 "metadata": {
  "kernelspec": {
   "display_name": "Python 3",
   "language": "python",
   "name": "python3"
  },
  "language_info": {
   "codemirror_mode": {
    "name": "ipython",
    "version": 3
   },
   "file_extension": ".py",
   "mimetype": "text/x-python",
   "name": "python",
   "nbconvert_exporter": "python",
   "pygments_lexer": "ipython3",
   "version": "3.11.3"
  },
  "orig_nbformat": 4
 },
 "nbformat": 4,
 "nbformat_minor": 2
}
